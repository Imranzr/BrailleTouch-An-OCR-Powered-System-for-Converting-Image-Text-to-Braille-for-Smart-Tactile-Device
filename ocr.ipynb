{
 "cells": [
  {
   "cell_type": "markdown",
   "id": "773e2cbb-7320-40be-8795-29eaf3b54a57",
   "metadata": {},
   "source": [
    "# Conversion of Enlish written on a Photo to braille "
   ]
  },
  {
   "cell_type": "code",
   "execution_count": 1,
   "id": "21a9cea6-888c-4fcf-b212-020fbe4652a3",
   "metadata": {},
   "outputs": [
    {
     "name": "stdout",
     "output_type": "stream",
     "text": [
      "Requirement already satisfied: pytesseract in c:\\users\\imran\\anaconda3\\lib\\site-packages (0.3.13)Note: you may need to restart the kernel to use updated packages.\n",
      "\n",
      "Requirement already satisfied: packaging>=21.3 in c:\\users\\imran\\anaconda3\\lib\\site-packages (from pytesseract) (23.2)\n",
      "Requirement already satisfied: Pillow>=8.0.0 in c:\\users\\imran\\anaconda3\\lib\\site-packages (from pytesseract) (10.3.0)\n"
     ]
    }
   ],
   "source": [
    "pip install pytesseract\n"
   ]
  },
  {
   "cell_type": "code",
   "execution_count": 1,
   "id": "04341622-a04d-4e62-ab32-f9b6176eb287",
   "metadata": {},
   "outputs": [],
   "source": [
    "from PIL import Image\n",
    "import pytesseract\n"
   ]
  },
  {
   "cell_type": "code",
   "execution_count": 2,
   "id": "a6e3991b-7b67-49da-8b7c-2ff9b421b877",
   "metadata": {},
   "outputs": [],
   "source": [
    "# Braille alphabet mapping (ASCII Braille representation)\n",
    "braille_alphabet = {\n",
    "    'a': '⠁', 'b': '⠃', 'c': '⠉', 'd': '⠙', 'e': '⠑', 'f': '⠋', 'g': '⠛', 'h': '⠓',\n",
    "    'i': '⠊', 'j': '⠚', 'k': '⠅', 'l': '⠇', 'm': '⠍', 'n': '⠝', 'o': '⠕', 'p': '⠏',\n",
    "    'q': '⠟', 'r': '⠗', 's': '⠎', 't': '⠞', 'u': '⠥', 'v': '⠧', 'w': '⠺', 'x': '⠭',\n",
    "    'y': '⠽', 'z': '⠵', ' ': ' ',  # Include space\n",
    "    '1': '⠼⠁', '2': '⠼⠃', '3': '⠼⠉', '4': '⠼⠙', '5': '⠼⠑', '6': '⠼⠋', '7': '⠼⠛',\n",
    "    '8': '⠼⠓', '9': '⠼⠊', '0': '⠼⠚', \n",
    "}"
   ]
  },
  {
   "cell_type": "code",
   "execution_count": 3,
   "id": "125d252d-1250-492e-a004-7d9a2747921c",
   "metadata": {},
   "outputs": [],
   "source": [
    "def english_to_braille(text):\n",
    "    braille_text = ''\n",
    "    for char in text.lower():\n",
    "        if char in braille_alphabet:\n",
    "            braille_text += braille_alphabet[char]\n",
    "        else:\n",
    "            braille_text += '?'  # Unknown characters are replaced by '?'\n",
    "    return braille_text"
   ]
  },
  {
   "cell_type": "code",
   "execution_count": 4,
   "id": "bcdad45d-47ab-4a08-b627-8f38681e4d52",
   "metadata": {},
   "outputs": [],
   "source": [
    "# Function to extract text from image using OCR\n",
    "def extract_text_from_image(image_path):\n",
    "    # Load image\n",
    "    img = Image.open(image_path)\n",
    "    \n",
    "    # Use pytesseract to extract English text from the image\n",
    "    text = pytesseract.image_to_string(img, lang='eng')\n",
    "    \n",
    "    return text.strip()\n"
   ]
  },
  {
   "cell_type": "code",
   "execution_count": 5,
   "id": "7c58e572-4511-43d8-9d47-e6cdd87a1c48",
   "metadata": {},
   "outputs": [],
   "source": [
    "# Main function to process image and convert text to Braille\n",
    "def convert_image_to_braille(image_path):\n",
    "    # Extract text from image\n",
    "    extracted_text = extract_text_from_image(image_path)\n",
    "    print(f\"Extracted Text: {extracted_text}\")\n",
    "    \n",
    "    # Convert to Braille\n",
    "    braille_translation = english_to_braille(extracted_text)\n",
    "    print(f\"Braille Translation: {braille_translation}\")\n",
    "\n",
    "    return braille_translation\n"
   ]
  },
  {
   "cell_type": "code",
   "execution_count": 6,
   "id": "a15994fd-a2b5-40b7-8b55-3e413ad9663a",
   "metadata": {},
   "outputs": [
    {
     "name": "stderr",
     "output_type": "stream",
     "text": [
      "<>:2: SyntaxWarning: invalid escape sequence '\\P'\n",
      "<>:2: SyntaxWarning: invalid escape sequence '\\P'\n",
      "C:\\Users\\imran\\AppData\\Local\\Temp\\ipykernel_9828\\818102400.py:2: SyntaxWarning: invalid escape sequence '\\P'\n",
      "  image_path = 'C:/Users/imran/OneDrive/Desktop\\Prakash.jpg'  # Replace with the path to your image\n"
     ]
    },
    {
     "name": "stdout",
     "output_type": "stream",
     "text": [
      "Extracted Text: Prakash is a passionate and dedicated innovator whose work has\n",
      "been a beacon of hope for people with disabilities, particularly the\n",
      "visually impaired. His primary focus is on creating accessible\n",
      "technology that empowers blind students to engage with\n",
      "educational material more independently. One of his most\n",
      "notable projects involves developing a tactile-based display\n",
      "device designed to convert text and mathematical figures into\n",
      "Braille. This technology helps blind students \"see\" complex\n",
      "diagrams and shapes, such as triangles, squares, and even more\n",
      "intricate geometric forms like parabolas, by transforming visual\n",
      "information into tactile sensations that can be felt and interpreted\n",
      "through touch.\n",
      "Braille Translation: ⠏⠗⠁⠅⠁⠎⠓ ⠊⠎ ⠁ ⠏⠁⠎⠎⠊⠕⠝⠁⠞⠑ ⠁⠝⠙ ⠙⠑⠙⠊⠉⠁⠞⠑⠙ ⠊⠝⠝⠕⠧⠁⠞⠕⠗ ⠺⠓⠕⠎⠑ ⠺⠕⠗⠅ ⠓⠁⠎?⠃⠑⠑⠝ ⠁ ⠃⠑⠁⠉⠕⠝ ⠕⠋ ⠓⠕⠏⠑ ⠋⠕⠗ ⠏⠑⠕⠏⠇⠑ ⠺⠊⠞⠓ ⠙⠊⠎⠁⠃⠊⠇⠊⠞⠊⠑⠎? ⠏⠁⠗⠞⠊⠉⠥⠇⠁⠗⠇⠽ ⠞⠓⠑?⠧⠊⠎⠥⠁⠇⠇⠽ ⠊⠍⠏⠁⠊⠗⠑⠙? ⠓⠊⠎ ⠏⠗⠊⠍⠁⠗⠽ ⠋⠕⠉⠥⠎ ⠊⠎ ⠕⠝ ⠉⠗⠑⠁⠞⠊⠝⠛ ⠁⠉⠉⠑⠎⠎⠊⠃⠇⠑?⠞⠑⠉⠓⠝⠕⠇⠕⠛⠽ ⠞⠓⠁⠞ ⠑⠍⠏⠕⠺⠑⠗⠎ ⠃⠇⠊⠝⠙ ⠎⠞⠥⠙⠑⠝⠞⠎ ⠞⠕ ⠑⠝⠛⠁⠛⠑ ⠺⠊⠞⠓?⠑⠙⠥⠉⠁⠞⠊⠕⠝⠁⠇ ⠍⠁⠞⠑⠗⠊⠁⠇ ⠍⠕⠗⠑ ⠊⠝⠙⠑⠏⠑⠝⠙⠑⠝⠞⠇⠽? ⠕⠝⠑ ⠕⠋ ⠓⠊⠎ ⠍⠕⠎⠞?⠝⠕⠞⠁⠃⠇⠑ ⠏⠗⠕⠚⠑⠉⠞⠎ ⠊⠝⠧⠕⠇⠧⠑⠎ ⠙⠑⠧⠑⠇⠕⠏⠊⠝⠛ ⠁ ⠞⠁⠉⠞⠊⠇⠑?⠃⠁⠎⠑⠙ ⠙⠊⠎⠏⠇⠁⠽?⠙⠑⠧⠊⠉⠑ ⠙⠑⠎⠊⠛⠝⠑⠙ ⠞⠕ ⠉⠕⠝⠧⠑⠗⠞ ⠞⠑⠭⠞ ⠁⠝⠙ ⠍⠁⠞⠓⠑⠍⠁⠞⠊⠉⠁⠇ ⠋⠊⠛⠥⠗⠑⠎ ⠊⠝⠞⠕?⠃⠗⠁⠊⠇⠇⠑? ⠞⠓⠊⠎ ⠞⠑⠉⠓⠝⠕⠇⠕⠛⠽ ⠓⠑⠇⠏⠎ ⠃⠇⠊⠝⠙ ⠎⠞⠥⠙⠑⠝⠞⠎ ?⠎⠑⠑? ⠉⠕⠍⠏⠇⠑⠭?⠙⠊⠁⠛⠗⠁⠍⠎ ⠁⠝⠙ ⠎⠓⠁⠏⠑⠎? ⠎⠥⠉⠓ ⠁⠎ ⠞⠗⠊⠁⠝⠛⠇⠑⠎? ⠎⠟⠥⠁⠗⠑⠎? ⠁⠝⠙ ⠑⠧⠑⠝ ⠍⠕⠗⠑?⠊⠝⠞⠗⠊⠉⠁⠞⠑ ⠛⠑⠕⠍⠑⠞⠗⠊⠉ ⠋⠕⠗⠍⠎ ⠇⠊⠅⠑ ⠏⠁⠗⠁⠃⠕⠇⠁⠎? ⠃⠽ ⠞⠗⠁⠝⠎⠋⠕⠗⠍⠊⠝⠛ ⠧⠊⠎⠥⠁⠇?⠊⠝⠋⠕⠗⠍⠁⠞⠊⠕⠝ ⠊⠝⠞⠕ ⠞⠁⠉⠞⠊⠇⠑ ⠎⠑⠝⠎⠁⠞⠊⠕⠝⠎ ⠞⠓⠁⠞ ⠉⠁⠝ ⠃⠑ ⠋⠑⠇⠞ ⠁⠝⠙ ⠊⠝⠞⠑⠗⠏⠗⠑⠞⠑⠙?⠞⠓⠗⠕⠥⠛⠓ ⠞⠕⠥⠉⠓?\n"
     ]
    }
   ],
   "source": [
    "# Example usage\n",
    "image_path = 'C:/Users/imran/OneDrive/Desktop\\Prakash.jpg'  # Replace with the path to your image\n",
    "braille_output = convert_image_to_braille(image_path)\n"
   ]
  },
  {
   "cell_type": "code",
   "execution_count": null,
   "id": "13823e81-0c3d-4c69-8d2d-d1146a0afa53",
   "metadata": {},
   "outputs": [],
   "source": []
  },
  {
   "cell_type": "code",
   "execution_count": null,
   "id": "cca79b9e-4cd0-459a-b898-128bc421ee9a",
   "metadata": {},
   "outputs": [],
   "source": []
  }
 ],
 "metadata": {
  "kernelspec": {
   "display_name": "Python 3 (ipykernel)",
   "language": "python",
   "name": "python3"
  },
  "language_info": {
   "codemirror_mode": {
    "name": "ipython",
    "version": 3
   },
   "file_extension": ".py",
   "mimetype": "text/x-python",
   "name": "python",
   "nbconvert_exporter": "python",
   "pygments_lexer": "ipython3",
   "version": "3.12.4"
  }
 },
 "nbformat": 4,
 "nbformat_minor": 5
}
